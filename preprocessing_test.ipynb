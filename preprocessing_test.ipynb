{
 "cells": [
  {
   "cell_type": "code",
   "execution_count": 1,
   "id": "45843786",
   "metadata": {},
   "outputs": [
    {
     "name": "stdout",
     "output_type": "stream",
     "text": [
      "Jupyter environment detected. Enabling Open3D WebVisualizer.\n",
      "[Open3D INFO] WebRTC GUI backend enabled.\n",
      "[Open3D INFO] WebRTCWindowSystem: HTTP handshake server disabled.\n"
     ]
    }
   ],
   "source": [
    "import numpy as np\n",
    "import open3d as o3d\n",
    "from glob import glob\n",
    "import json\n",
    "import os \n",
    "import shutil"
   ]
  },
  {
   "cell_type": "markdown",
   "id": "a495c98a",
   "metadata": {},
   "source": [
    "### Json"
   ]
  },
  {
   "cell_type": "code",
   "execution_count": 21,
   "id": "cee3dea1",
   "metadata": {},
   "outputs": [],
   "source": [
    "root_dir = \"/media/jh/T7/3DBB/엣지케이스/차단독/주정차차량_충돌/이면도로_주행_중_주차_차량_충돌/20220825_110754_carnival\""
   ]
  },
  {
   "cell_type": "code",
   "execution_count": 22,
   "id": "98c572c0",
   "metadata": {},
   "outputs": [
    {
     "ename": "FileExistsError",
     "evalue": "[Errno 17] File exists: '/media/jh/T7/3DBB/엣지케이스/차단독/주정차차량_충돌/이면도로_주행_중_주차_차량_충돌/20220825_110754_carnival/custom'",
     "output_type": "error",
     "traceback": [
      "\u001b[0;31m---------------------------------------------------------------------------\u001b[0m",
      "\u001b[0;31mFileExistsError\u001b[0m                           Traceback (most recent call last)",
      "\u001b[0;32m/tmp/ipykernel_53211/2544427504.py\u001b[0m in \u001b[0;36m<module>\u001b[0;34m\u001b[0m\n\u001b[1;32m      1\u001b[0m \u001b[0mcustom\u001b[0m \u001b[0;34m=\u001b[0m \u001b[0mos\u001b[0m\u001b[0;34m.\u001b[0m\u001b[0mpath\u001b[0m\u001b[0;34m.\u001b[0m\u001b[0mjoin\u001b[0m\u001b[0;34m(\u001b[0m\u001b[0mroot_dir\u001b[0m\u001b[0;34m,\u001b[0m \u001b[0;34m\"custom\"\u001b[0m\u001b[0;34m)\u001b[0m\u001b[0;34m\u001b[0m\u001b[0;34m\u001b[0m\u001b[0m\n\u001b[0;32m----> 2\u001b[0;31m \u001b[0mos\u001b[0m\u001b[0;34m.\u001b[0m\u001b[0mmakedirs\u001b[0m\u001b[0;34m(\u001b[0m\u001b[0mcustom\u001b[0m\u001b[0;34m)\u001b[0m\u001b[0;34m\u001b[0m\u001b[0;34m\u001b[0m\u001b[0m\n\u001b[0m",
      "\u001b[0;32m~/anaconda3/lib/python3.9/os.py\u001b[0m in \u001b[0;36mmakedirs\u001b[0;34m(name, mode, exist_ok)\u001b[0m\n\u001b[1;32m    223\u001b[0m             \u001b[0;32mreturn\u001b[0m\u001b[0;34m\u001b[0m\u001b[0;34m\u001b[0m\u001b[0m\n\u001b[1;32m    224\u001b[0m     \u001b[0;32mtry\u001b[0m\u001b[0;34m:\u001b[0m\u001b[0;34m\u001b[0m\u001b[0;34m\u001b[0m\u001b[0m\n\u001b[0;32m--> 225\u001b[0;31m         \u001b[0mmkdir\u001b[0m\u001b[0;34m(\u001b[0m\u001b[0mname\u001b[0m\u001b[0;34m,\u001b[0m \u001b[0mmode\u001b[0m\u001b[0;34m)\u001b[0m\u001b[0;34m\u001b[0m\u001b[0;34m\u001b[0m\u001b[0m\n\u001b[0m\u001b[1;32m    226\u001b[0m     \u001b[0;32mexcept\u001b[0m \u001b[0mOSError\u001b[0m\u001b[0;34m:\u001b[0m\u001b[0;34m\u001b[0m\u001b[0;34m\u001b[0m\u001b[0m\n\u001b[1;32m    227\u001b[0m         \u001b[0;31m# Cannot rely on checking for EEXIST, since the operating system\u001b[0m\u001b[0;34m\u001b[0m\u001b[0;34m\u001b[0m\u001b[0m\n",
      "\u001b[0;31mFileExistsError\u001b[0m: [Errno 17] File exists: '/media/jh/T7/3DBB/엣지케이스/차단독/주정차차량_충돌/이면도로_주행_중_주차_차량_충돌/20220825_110754_carnival/custom'"
     ]
    }
   ],
   "source": [
    "custom = os.path.join(root_dir, \"custom\")\n",
    "os.makedirs(custom)"
   ]
  },
  {
   "cell_type": "code",
   "execution_count": 23,
   "id": "b18d9662",
   "metadata": {},
   "outputs": [
    {
     "ename": "FileExistsError",
     "evalue": "[Errno 17] File exists: '/media/jh/T7/3DBB/엣지케이스/차단독/주정차차량_충돌/이면도로_주행_중_주차_차량_충돌/20220825_110754_carnival/custom/ImageSets'",
     "output_type": "error",
     "traceback": [
      "\u001b[0;31m---------------------------------------------------------------------------\u001b[0m",
      "\u001b[0;31mFileExistsError\u001b[0m                           Traceback (most recent call last)",
      "\u001b[0;32m/tmp/ipykernel_53211/2424415717.py\u001b[0m in \u001b[0;36m<module>\u001b[0;34m\u001b[0m\n\u001b[1;32m      1\u001b[0m \u001b[0mimageset\u001b[0m \u001b[0;34m=\u001b[0m \u001b[0mos\u001b[0m\u001b[0;34m.\u001b[0m\u001b[0mpath\u001b[0m\u001b[0;34m.\u001b[0m\u001b[0mjoin\u001b[0m\u001b[0;34m(\u001b[0m\u001b[0mcustom\u001b[0m\u001b[0;34m,\u001b[0m \u001b[0;34m\"ImageSets\"\u001b[0m\u001b[0;34m)\u001b[0m\u001b[0;34m\u001b[0m\u001b[0;34m\u001b[0m\u001b[0m\n\u001b[0;32m----> 2\u001b[0;31m \u001b[0mos\u001b[0m\u001b[0;34m.\u001b[0m\u001b[0mmakedirs\u001b[0m\u001b[0;34m(\u001b[0m\u001b[0mimageset\u001b[0m\u001b[0;34m)\u001b[0m\u001b[0;34m\u001b[0m\u001b[0;34m\u001b[0m\u001b[0m\n\u001b[0m",
      "\u001b[0;32m~/anaconda3/lib/python3.9/os.py\u001b[0m in \u001b[0;36mmakedirs\u001b[0;34m(name, mode, exist_ok)\u001b[0m\n\u001b[1;32m    223\u001b[0m             \u001b[0;32mreturn\u001b[0m\u001b[0;34m\u001b[0m\u001b[0;34m\u001b[0m\u001b[0m\n\u001b[1;32m    224\u001b[0m     \u001b[0;32mtry\u001b[0m\u001b[0;34m:\u001b[0m\u001b[0;34m\u001b[0m\u001b[0;34m\u001b[0m\u001b[0m\n\u001b[0;32m--> 225\u001b[0;31m         \u001b[0mmkdir\u001b[0m\u001b[0;34m(\u001b[0m\u001b[0mname\u001b[0m\u001b[0;34m,\u001b[0m \u001b[0mmode\u001b[0m\u001b[0;34m)\u001b[0m\u001b[0;34m\u001b[0m\u001b[0;34m\u001b[0m\u001b[0m\n\u001b[0m\u001b[1;32m    226\u001b[0m     \u001b[0;32mexcept\u001b[0m \u001b[0mOSError\u001b[0m\u001b[0;34m:\u001b[0m\u001b[0;34m\u001b[0m\u001b[0;34m\u001b[0m\u001b[0m\n\u001b[1;32m    227\u001b[0m         \u001b[0;31m# Cannot rely on checking for EEXIST, since the operating system\u001b[0m\u001b[0;34m\u001b[0m\u001b[0;34m\u001b[0m\u001b[0m\n",
      "\u001b[0;31mFileExistsError\u001b[0m: [Errno 17] File exists: '/media/jh/T7/3DBB/엣지케이스/차단독/주정차차량_충돌/이면도로_주행_중_주차_차량_충돌/20220825_110754_carnival/custom/ImageSets'"
     ]
    }
   ],
   "source": [
    "imageset = os.path.join(custom, \"ImageSets\")\n",
    "os.makedirs(imageset)"
   ]
  },
  {
   "cell_type": "markdown",
   "id": "b6efe844",
   "metadata": {},
   "source": [
    "label\n",
    "- Json 파일에는 클래스가 너무 많이 들어있어서 높은 빈도를 가진 순으로 3개만 선택해서 학습을 하기로 결정했습니다. \n",
    "- 그에 맞게 json file을 txt 파일로 변경해주면서 클래스 이름을 통일 시켜줍니다."
   ]
  },
  {
   "cell_type": "code",
   "execution_count": 24,
   "id": "09587f6b",
   "metadata": {},
   "outputs": [],
   "source": [
    "json_list = glob(os.path.join(root_dir, \"label\")+\"/*.json\")"
   ]
  },
  {
   "cell_type": "code",
   "execution_count": 25,
   "id": "be250482",
   "metadata": {},
   "outputs": [],
   "source": [
    "label_file_path = os.path.join(custom,\"labels\")"
   ]
  },
  {
   "cell_type": "code",
   "execution_count": 26,
   "id": "78ac9794",
   "metadata": {},
   "outputs": [],
   "source": [
    "os.mkdir(label_file_path)"
   ]
  },
  {
   "cell_type": "code",
   "execution_count": 27,
   "id": "e93509c8",
   "metadata": {},
   "outputs": [],
   "source": [
    "key = ['obj_id', 'obj_type', 'psr']\n",
    "track_cls = ['car','pedestrian' ,'truck']"
   ]
  },
  {
   "cell_type": "code",
   "execution_count": 28,
   "id": "2c0f0f1e",
   "metadata": {},
   "outputs": [],
   "source": [
    "for i in json_list:\n",
    "    with open(i, \"r\") as j:\n",
    "        contents = json.loads(j.read())\n",
    "    with open(os.path.join(label_file_path, os.path.basename(i)[:-5] + '.txt'), mode='w') as f:  # I add the mode='w'\n",
    "        if type(contents) == dict:\n",
    "            if str(contents[key[1]]) in track_cls: #\n",
    "                pos = list(contents[key[2]][\"position\"].values())\n",
    "                for p in pos: # x, y, z\n",
    "                    f.write(\"%f \"%float(p))\n",
    "                scale = list(contents[key[2]][\"scale\"].values())\n",
    "                for s in scale:#dx dy dz\n",
    "                    f.write(\"%f \"%float(s))\n",
    "                r = list(contents[key[2]][\"rotation\"].values())[2]\n",
    "                f.write(\"%f \"%float(r)) # i think it is heading angle\n",
    "                if str(contents[key[1]]) ==\"car\":\n",
    "                    cls = \"Car\"\n",
    "                if str(contents[key[1]]) ==\"pedestrian\":\n",
    "                    cls =\"Pedestrian\"\n",
    "                if str(contents[key[1]]) ==\"truck\":\n",
    "                    cls = \"Truck\"\n",
    "                f.write(cls)\n",
    "                f.write(\"\\n\")\n",
    "        else:\n",
    "            for k in range(len(contents)):\n",
    "                if str(contents[k][key[1]]) in track_cls: #\n",
    "                    pos = list(contents[k][key[2]][\"position\"].values())\n",
    "                    for p in pos: # x, y, z\n",
    "                        f.write(\"%f \"%float(p))\n",
    "                    scale = list(contents[k][key[2]][\"scale\"].values())\n",
    "                    for s in scale:#dx dy dz\n",
    "                        f.write(\"%f \"%float(s))\n",
    "                    r = list(contents[k][key[2]][\"rotation\"].values())[2]\n",
    "                    f.write(\"%f \"%float(r)) # i think it is heading angle\n",
    "                    f.write(str(contents[k][key[1]]))\n",
    "                    f.write(\"\\n\")"
   ]
  },
  {
   "cell_type": "markdown",
   "id": "7e77261a",
   "metadata": {},
   "source": [
    "### pcd\n",
    "- PCD data를 모델의 input 형태인 npy로 바꿔주고 대회에서 제공한 데이터에 없는 intensity를 설정해줍니다\n",
    "- 모델에서 데이터를 인식을 못하는 경우가 가장 큰 문제였는데 그 문제는 최종적으로 npy 파일이 float32인경우에만 작동하였습니다. (대부분 언급이 없었어서 굉장히 헤맸습니다)"
   ]
  },
  {
   "cell_type": "code",
   "execution_count": 29,
   "id": "bfb0ee00",
   "metadata": {},
   "outputs": [],
   "source": [
    "pcd_list = glob(os.path.join(root_dir, \"pcd\")+\"/*.pcd\") "
   ]
  },
  {
   "cell_type": "code",
   "execution_count": 30,
   "id": "2cf67db7",
   "metadata": {},
   "outputs": [],
   "source": [
    "np_file_path = os.path.join(custom,\"points\") "
   ]
  },
  {
   "cell_type": "code",
   "execution_count": 31,
   "id": "5b6be83e",
   "metadata": {},
   "outputs": [],
   "source": [
    "os.mkdir(np_file_path)"
   ]
  },
  {
   "cell_type": "code",
   "execution_count": 32,
   "id": "56ebb6af",
   "metadata": {},
   "outputs": [],
   "source": [
    "# add intensity 0, dtype 32\n",
    "for i in pcd_list:\n",
    "    pcd = o3d.io.read_point_cloud(i)\n",
    "    array = np.asarray(pcd.points , dtype=np.float32)\n",
    "    points = np.hstack([array,np.full((array.shape[0],1),0, dtype=np.float32)])\n",
    "    np.save(os.path.join(np_file_path, os.path.basename(i)[:-4] + '.npy'), points)"
   ]
  },
  {
   "cell_type": "markdown",
   "id": "e5a0bf05",
   "metadata": {},
   "source": [
    "### imagesets\n",
    "- 학습을 하는 데이터에 대해서 모델에서 요구하는 파일을 만듭니다."
   ]
  },
  {
   "cell_type": "code",
   "execution_count": 33,
   "id": "e9fd2a3f",
   "metadata": {},
   "outputs": [],
   "source": [
    "lidar_np = glob(np_file_path+ \"/*.npy\")\n",
    "label_txt = glob(label_file_path+\"/*.txt\")"
   ]
  },
  {
   "cell_type": "code",
   "execution_count": 46,
   "id": "40a8e28d",
   "metadata": {},
   "outputs": [],
   "source": [
    "train_name = []\n",
    "val_name = []"
   ]
  },
  {
   "cell_type": "code",
   "execution_count": 47,
   "id": "117dcf11",
   "metadata": {},
   "outputs": [],
   "source": [
    "train = [0]\n",
    "val = range(1,len(label_txt))"
   ]
  },
  {
   "cell_type": "code",
   "execution_count": 48,
   "id": "8606163b",
   "metadata": {},
   "outputs": [],
   "source": [
    "for i in train:\n",
    "    train_name.append(os.path.basename(label_txt[i])[:-4])\n",
    "for j in val:\n",
    "    val_name.append(os.path.basename(label_txt[j])[:-4])"
   ]
  },
  {
   "cell_type": "code",
   "execution_count": 49,
   "id": "3a668579",
   "metadata": {},
   "outputs": [],
   "source": [
    "with open(os.path.join(imageset,'train.txt'), mode='w') as f:# I add the mode='w'\n",
    "    for k in train_name:\n",
    "        f.write(str(k))\n",
    "        f.write(\"\\n\")"
   ]
  },
  {
   "cell_type": "code",
   "execution_count": 38,
   "id": "00a0cffc",
   "metadata": {},
   "outputs": [],
   "source": [
    "with open(os.path.join(imageset,'val.txt'), mode='w') as f:  # I add the mode='w'\n",
    "    for k in val_name:\n",
    "        f.write(str(k))\n",
    "        f.write(\"\\n\")"
   ]
  }
 ],
 "metadata": {
  "kernelspec": {
   "display_name": "Python 3 (ipykernel)",
   "language": "python",
   "name": "python3"
  },
  "language_info": {
   "codemirror_mode": {
    "name": "ipython",
    "version": 3
   },
   "file_extension": ".py",
   "mimetype": "text/x-python",
   "name": "python",
   "nbconvert_exporter": "python",
   "pygments_lexer": "ipython3",
   "version": "3.9.13"
  }
 },
 "nbformat": 4,
 "nbformat_minor": 5
}
